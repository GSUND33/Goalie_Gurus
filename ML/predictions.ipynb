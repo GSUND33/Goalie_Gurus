{
 "cells": [
  {
   "cell_type": "code",
   "execution_count": 205,
   "metadata": {},
   "outputs": [],
   "source": [
    "import matplotlib.pyplot as plt\n",
    "from sklearn.neighbors import KNeighborsClassifier\n",
    "import numpy as np\n",
    "import pandas as pd\n",
    "import os"
   ]
  },
  {
   "cell_type": "code",
   "execution_count": 126,
   "metadata": {},
   "outputs": [
    {
     "name": "stderr",
     "output_type": "stream",
     "text": [
      "C:\\Anaconda3\\lib\\site-packages\\IPython\\core\\interactiveshell.py:3058: DtypeWarning: Columns (28,29) have mixed types. Specify dtype option on import or set low_memory=False.\n",
      "  interactivity=interactivity, compiler=compiler, result=result)\n"
     ]
    },
    {
     "data": {
      "text/html": [
       "<div>\n",
       "<style scoped>\n",
       "    .dataframe tbody tr th:only-of-type {\n",
       "        vertical-align: middle;\n",
       "    }\n",
       "\n",
       "    .dataframe tbody tr th {\n",
       "        vertical-align: top;\n",
       "    }\n",
       "\n",
       "    .dataframe thead th {\n",
       "        text-align: right;\n",
       "    }\n",
       "</style>\n",
       "<table border=\"1\" class=\"dataframe\">\n",
       "  <thead>\n",
       "    <tr style=\"text-align: right;\">\n",
       "      <th></th>\n",
       "      <th>assists</th>\n",
       "      <th>goals</th>\n",
       "      <th>pim</th>\n",
       "      <th>shots</th>\n",
       "      <th>games</th>\n",
       "      <th>hits</th>\n",
       "      <th>ppg</th>\n",
       "      <th>ppp</th>\n",
       "      <th>gwg</th>\n",
       "      <th>otg</th>\n",
       "      <th>shg</th>\n",
       "      <th>shp</th>\n",
       "      <th>bs</th>\n",
       "      <th>pm</th>\n",
       "      <th>pts</th>\n",
       "    </tr>\n",
       "    <tr>\n",
       "      <th>id</th>\n",
       "      <th></th>\n",
       "      <th></th>\n",
       "      <th></th>\n",
       "      <th></th>\n",
       "      <th></th>\n",
       "      <th></th>\n",
       "      <th></th>\n",
       "      <th></th>\n",
       "      <th></th>\n",
       "      <th></th>\n",
       "      <th></th>\n",
       "      <th></th>\n",
       "      <th></th>\n",
       "      <th></th>\n",
       "      <th></th>\n",
       "    </tr>\n",
       "  </thead>\n",
       "  <tbody>\n",
       "    <tr>\n",
       "      <td>8444945</td>\n",
       "      <td>601</td>\n",
       "      <td>498</td>\n",
       "      <td>1120</td>\n",
       "      <td>3109.0</td>\n",
       "      <td>1129</td>\n",
       "      <td>0</td>\n",
       "      <td>151.0</td>\n",
       "      <td>317.0</td>\n",
       "      <td>85.0</td>\n",
       "      <td>5.0</td>\n",
       "      <td>13.0</td>\n",
       "      <td>20.0</td>\n",
       "      <td>0.0</td>\n",
       "      <td>201.0</td>\n",
       "      <td>1099.0</td>\n",
       "    </tr>\n",
       "    <tr>\n",
       "      <td>8445000</td>\n",
       "      <td>698</td>\n",
       "      <td>640</td>\n",
       "      <td>1121</td>\n",
       "      <td>4556.0</td>\n",
       "      <td>1639</td>\n",
       "      <td>259</td>\n",
       "      <td>274.0</td>\n",
       "      <td>567.0</td>\n",
       "      <td>77.0</td>\n",
       "      <td>7.0</td>\n",
       "      <td>10.0</td>\n",
       "      <td>13.0</td>\n",
       "      <td>320.0</td>\n",
       "      <td>32.0</td>\n",
       "      <td>1338.0</td>\n",
       "    </tr>\n",
       "    <tr>\n",
       "      <td>8445240</td>\n",
       "      <td>727</td>\n",
       "      <td>500</td>\n",
       "      <td>343</td>\n",
       "      <td>3087.0</td>\n",
       "      <td>1299</td>\n",
       "      <td>0</td>\n",
       "      <td>154.0</td>\n",
       "      <td>422.0</td>\n",
       "      <td>78.0</td>\n",
       "      <td>0.0</td>\n",
       "      <td>4.0</td>\n",
       "      <td>4.0</td>\n",
       "      <td>0.0</td>\n",
       "      <td>-7.0</td>\n",
       "      <td>1227.0</td>\n",
       "    </tr>\n",
       "    <tr>\n",
       "      <td>8445408</td>\n",
       "      <td>484</td>\n",
       "      <td>299</td>\n",
       "      <td>543</td>\n",
       "      <td>2627.0</td>\n",
       "      <td>748</td>\n",
       "      <td>0</td>\n",
       "      <td>105.0</td>\n",
       "      <td>278.0</td>\n",
       "      <td>50.0</td>\n",
       "      <td>0.0</td>\n",
       "      <td>0.0</td>\n",
       "      <td>0.0</td>\n",
       "      <td>0.0</td>\n",
       "      <td>117.0</td>\n",
       "      <td>783.0</td>\n",
       "    </tr>\n",
       "    <tr>\n",
       "      <td>8445417</td>\n",
       "      <td>537</td>\n",
       "      <td>485</td>\n",
       "      <td>718</td>\n",
       "      <td>3587.0</td>\n",
       "      <td>1188</td>\n",
       "      <td>38</td>\n",
       "      <td>198.0</td>\n",
       "      <td>415.0</td>\n",
       "      <td>58.0</td>\n",
       "      <td>7.0</td>\n",
       "      <td>13.0</td>\n",
       "      <td>22.0</td>\n",
       "      <td>14.0</td>\n",
       "      <td>-120.0</td>\n",
       "      <td>1022.0</td>\n",
       "    </tr>\n",
       "  </tbody>\n",
       "</table>\n",
       "</div>"
      ],
      "text/plain": [
       "         assists  goals   pim   shots  games  hits    ppg    ppp   gwg  otg  \\\n",
       "id                                                                            \n",
       "8444945      601    498  1120  3109.0   1129     0  151.0  317.0  85.0  5.0   \n",
       "8445000      698    640  1121  4556.0   1639   259  274.0  567.0  77.0  7.0   \n",
       "8445240      727    500   343  3087.0   1299     0  154.0  422.0  78.0  0.0   \n",
       "8445408      484    299   543  2627.0    748     0  105.0  278.0  50.0  0.0   \n",
       "8445417      537    485   718  3587.0   1188    38  198.0  415.0  58.0  7.0   \n",
       "\n",
       "          shg   shp     bs     pm     pts  \n",
       "id                                         \n",
       "8444945  13.0  20.0    0.0  201.0  1099.0  \n",
       "8445000  10.0  13.0  320.0   32.0  1338.0  \n",
       "8445240   4.0   4.0    0.0   -7.0  1227.0  \n",
       "8445408   0.0   0.0    0.0  117.0   783.0  \n",
       "8445417  13.0  22.0   14.0 -120.0  1022.0  "
      ]
     },
     "execution_count": 126,
     "metadata": {},
     "output_type": "execute_result"
    }
   ],
   "source": [
    "df = pd.read_csv(\"top_56_scorers.csv\")\n",
    "df = df.dropna(how = \"any\").drop([\"daysalive\", \"season\", \"seasonid\", \"gameid\", \"sumgoals\"], axis = 1)\n",
    "df_max = df.groupby(\"id\").sum()\n",
    "\n",
    "\n",
    "df_max.head()"
   ]
  },
  {
   "cell_type": "code",
   "execution_count": 127,
   "metadata": {},
   "outputs": [
    {
     "data": {
      "text/html": [
       "<div>\n",
       "<style scoped>\n",
       "    .dataframe tbody tr th:only-of-type {\n",
       "        vertical-align: middle;\n",
       "    }\n",
       "\n",
       "    .dataframe tbody tr th {\n",
       "        vertical-align: top;\n",
       "    }\n",
       "\n",
       "    .dataframe thead th {\n",
       "        text-align: right;\n",
       "    }\n",
       "</style>\n",
       "<table border=\"1\" class=\"dataframe\">\n",
       "  <thead>\n",
       "    <tr style=\"text-align: right;\">\n",
       "      <th></th>\n",
       "      <th>id</th>\n",
       "      <th>assists</th>\n",
       "      <th>goals</th>\n",
       "      <th>pim</th>\n",
       "      <th>shots</th>\n",
       "      <th>games</th>\n",
       "      <th>hits</th>\n",
       "      <th>ppg</th>\n",
       "      <th>ppp</th>\n",
       "      <th>gwg</th>\n",
       "      <th>otg</th>\n",
       "      <th>shg</th>\n",
       "      <th>shp</th>\n",
       "      <th>bs</th>\n",
       "      <th>pm</th>\n",
       "      <th>pts</th>\n",
       "      <th>pos</th>\n",
       "    </tr>\n",
       "  </thead>\n",
       "  <tbody>\n",
       "    <tr>\n",
       "      <td>0</td>\n",
       "      <td>8444945</td>\n",
       "      <td>601</td>\n",
       "      <td>498</td>\n",
       "      <td>1120</td>\n",
       "      <td>3109.0</td>\n",
       "      <td>1129</td>\n",
       "      <td>0</td>\n",
       "      <td>151.0</td>\n",
       "      <td>317.0</td>\n",
       "      <td>85.0</td>\n",
       "      <td>5.0</td>\n",
       "      <td>13.0</td>\n",
       "      <td>20.0</td>\n",
       "      <td>0.0</td>\n",
       "      <td>201.0</td>\n",
       "      <td>1099.0</td>\n",
       "      <td>R</td>\n",
       "    </tr>\n",
       "    <tr>\n",
       "      <td>1129</td>\n",
       "      <td>8445000</td>\n",
       "      <td>698</td>\n",
       "      <td>640</td>\n",
       "      <td>1121</td>\n",
       "      <td>4556.0</td>\n",
       "      <td>1639</td>\n",
       "      <td>259</td>\n",
       "      <td>274.0</td>\n",
       "      <td>567.0</td>\n",
       "      <td>77.0</td>\n",
       "      <td>7.0</td>\n",
       "      <td>10.0</td>\n",
       "      <td>13.0</td>\n",
       "      <td>320.0</td>\n",
       "      <td>32.0</td>\n",
       "      <td>1338.0</td>\n",
       "      <td>L</td>\n",
       "    </tr>\n",
       "    <tr>\n",
       "      <td>2768</td>\n",
       "      <td>8445240</td>\n",
       "      <td>727</td>\n",
       "      <td>500</td>\n",
       "      <td>343</td>\n",
       "      <td>3087.0</td>\n",
       "      <td>1299</td>\n",
       "      <td>0</td>\n",
       "      <td>154.0</td>\n",
       "      <td>422.0</td>\n",
       "      <td>78.0</td>\n",
       "      <td>0.0</td>\n",
       "      <td>4.0</td>\n",
       "      <td>4.0</td>\n",
       "      <td>0.0</td>\n",
       "      <td>-7.0</td>\n",
       "      <td>1227.0</td>\n",
       "      <td>L</td>\n",
       "    </tr>\n",
       "    <tr>\n",
       "      <td>4067</td>\n",
       "      <td>8445408</td>\n",
       "      <td>484</td>\n",
       "      <td>299</td>\n",
       "      <td>543</td>\n",
       "      <td>2627.0</td>\n",
       "      <td>748</td>\n",
       "      <td>0</td>\n",
       "      <td>105.0</td>\n",
       "      <td>278.0</td>\n",
       "      <td>50.0</td>\n",
       "      <td>0.0</td>\n",
       "      <td>0.0</td>\n",
       "      <td>0.0</td>\n",
       "      <td>0.0</td>\n",
       "      <td>117.0</td>\n",
       "      <td>783.0</td>\n",
       "      <td>C</td>\n",
       "    </tr>\n",
       "    <tr>\n",
       "      <td>4815</td>\n",
       "      <td>8445417</td>\n",
       "      <td>537</td>\n",
       "      <td>485</td>\n",
       "      <td>718</td>\n",
       "      <td>3587.0</td>\n",
       "      <td>1188</td>\n",
       "      <td>38</td>\n",
       "      <td>198.0</td>\n",
       "      <td>415.0</td>\n",
       "      <td>58.0</td>\n",
       "      <td>7.0</td>\n",
       "      <td>13.0</td>\n",
       "      <td>22.0</td>\n",
       "      <td>14.0</td>\n",
       "      <td>-120.0</td>\n",
       "      <td>1022.0</td>\n",
       "      <td>L</td>\n",
       "    </tr>\n",
       "  </tbody>\n",
       "</table>\n",
       "</div>"
      ],
      "text/plain": [
       "           id  assists  goals   pim   shots  games  hits    ppg    ppp   gwg  \\\n",
       "0     8444945      601    498  1120  3109.0   1129     0  151.0  317.0  85.0   \n",
       "1129  8445000      698    640  1121  4556.0   1639   259  274.0  567.0  77.0   \n",
       "2768  8445240      727    500   343  3087.0   1299     0  154.0  422.0  78.0   \n",
       "4067  8445408      484    299   543  2627.0    748     0  105.0  278.0  50.0   \n",
       "4815  8445417      537    485   718  3587.0   1188    38  198.0  415.0  58.0   \n",
       "\n",
       "      otg   shg   shp     bs     pm     pts pos  \n",
       "0     5.0  13.0  20.0    0.0  201.0  1099.0   R  \n",
       "1129  7.0  10.0  13.0  320.0   32.0  1338.0   L  \n",
       "2768  0.0   4.0   4.0    0.0   -7.0  1227.0   L  \n",
       "4067  0.0   0.0   0.0    0.0  117.0   783.0   C  \n",
       "4815  7.0  13.0  22.0   14.0 -120.0  1022.0   L  "
      ]
     },
     "execution_count": 127,
     "metadata": {},
     "output_type": "execute_result"
    }
   ],
   "source": [
    "#df position\n",
    "df_pos = df[[\"id\", \"pos\"]]\n",
    "df_merge = df_max.merge(df_pos, on = \"id\").drop_duplicates()\n",
    "df_merge.head()\n"
   ]
  },
  {
   "cell_type": "code",
   "execution_count": 128,
   "metadata": {},
   "outputs": [],
   "source": [
    "#df_merge[\"pos\"].value_counts()"
   ]
  },
  {
   "cell_type": "code",
   "execution_count": 129,
   "metadata": {},
   "outputs": [],
   "source": [
    "df_merge = df_merge.replace(\"R\", \"W\")\n",
    "df_merge = df_merge.replace(\"L\", \"W\")\n",
    "y = df_merge[\"pos\"]\n",
    "target_names = [\"C\", \"W\"]\n",
    "#rename L and R as W\n",
    "\n"
   ]
  },
  {
   "cell_type": "code",
   "execution_count": 130,
   "metadata": {},
   "outputs": [
    {
     "data": {
      "text/html": [
       "<div>\n",
       "<style scoped>\n",
       "    .dataframe tbody tr th:only-of-type {\n",
       "        vertical-align: middle;\n",
       "    }\n",
       "\n",
       "    .dataframe tbody tr th {\n",
       "        vertical-align: top;\n",
       "    }\n",
       "\n",
       "    .dataframe thead th {\n",
       "        text-align: right;\n",
       "    }\n",
       "</style>\n",
       "<table border=\"1\" class=\"dataframe\">\n",
       "  <thead>\n",
       "    <tr style=\"text-align: right;\">\n",
       "      <th></th>\n",
       "      <th>id</th>\n",
       "      <th>assists</th>\n",
       "      <th>goals</th>\n",
       "      <th>pim</th>\n",
       "      <th>shots</th>\n",
       "      <th>games</th>\n",
       "      <th>hits</th>\n",
       "      <th>ppg</th>\n",
       "      <th>ppp</th>\n",
       "      <th>gwg</th>\n",
       "      <th>otg</th>\n",
       "      <th>shg</th>\n",
       "      <th>shp</th>\n",
       "      <th>bs</th>\n",
       "      <th>pm</th>\n",
       "      <th>pts</th>\n",
       "    </tr>\n",
       "  </thead>\n",
       "  <tbody>\n",
       "    <tr>\n",
       "      <td>0</td>\n",
       "      <td>8444945</td>\n",
       "      <td>601</td>\n",
       "      <td>498</td>\n",
       "      <td>1120</td>\n",
       "      <td>3109.0</td>\n",
       "      <td>1129</td>\n",
       "      <td>0</td>\n",
       "      <td>151.0</td>\n",
       "      <td>317.0</td>\n",
       "      <td>85.0</td>\n",
       "      <td>5.0</td>\n",
       "      <td>13.0</td>\n",
       "      <td>20.0</td>\n",
       "      <td>0.0</td>\n",
       "      <td>201.0</td>\n",
       "      <td>1099.0</td>\n",
       "    </tr>\n",
       "    <tr>\n",
       "      <td>1129</td>\n",
       "      <td>8445000</td>\n",
       "      <td>698</td>\n",
       "      <td>640</td>\n",
       "      <td>1121</td>\n",
       "      <td>4556.0</td>\n",
       "      <td>1639</td>\n",
       "      <td>259</td>\n",
       "      <td>274.0</td>\n",
       "      <td>567.0</td>\n",
       "      <td>77.0</td>\n",
       "      <td>7.0</td>\n",
       "      <td>10.0</td>\n",
       "      <td>13.0</td>\n",
       "      <td>320.0</td>\n",
       "      <td>32.0</td>\n",
       "      <td>1338.0</td>\n",
       "    </tr>\n",
       "    <tr>\n",
       "      <td>2768</td>\n",
       "      <td>8445240</td>\n",
       "      <td>727</td>\n",
       "      <td>500</td>\n",
       "      <td>343</td>\n",
       "      <td>3087.0</td>\n",
       "      <td>1299</td>\n",
       "      <td>0</td>\n",
       "      <td>154.0</td>\n",
       "      <td>422.0</td>\n",
       "      <td>78.0</td>\n",
       "      <td>0.0</td>\n",
       "      <td>4.0</td>\n",
       "      <td>4.0</td>\n",
       "      <td>0.0</td>\n",
       "      <td>-7.0</td>\n",
       "      <td>1227.0</td>\n",
       "    </tr>\n",
       "    <tr>\n",
       "      <td>4067</td>\n",
       "      <td>8445408</td>\n",
       "      <td>484</td>\n",
       "      <td>299</td>\n",
       "      <td>543</td>\n",
       "      <td>2627.0</td>\n",
       "      <td>748</td>\n",
       "      <td>0</td>\n",
       "      <td>105.0</td>\n",
       "      <td>278.0</td>\n",
       "      <td>50.0</td>\n",
       "      <td>0.0</td>\n",
       "      <td>0.0</td>\n",
       "      <td>0.0</td>\n",
       "      <td>0.0</td>\n",
       "      <td>117.0</td>\n",
       "      <td>783.0</td>\n",
       "    </tr>\n",
       "    <tr>\n",
       "      <td>4815</td>\n",
       "      <td>8445417</td>\n",
       "      <td>537</td>\n",
       "      <td>485</td>\n",
       "      <td>718</td>\n",
       "      <td>3587.0</td>\n",
       "      <td>1188</td>\n",
       "      <td>38</td>\n",
       "      <td>198.0</td>\n",
       "      <td>415.0</td>\n",
       "      <td>58.0</td>\n",
       "      <td>7.0</td>\n",
       "      <td>13.0</td>\n",
       "      <td>22.0</td>\n",
       "      <td>14.0</td>\n",
       "      <td>-120.0</td>\n",
       "      <td>1022.0</td>\n",
       "    </tr>\n",
       "  </tbody>\n",
       "</table>\n",
       "</div>"
      ],
      "text/plain": [
       "           id  assists  goals   pim   shots  games  hits    ppg    ppp   gwg  \\\n",
       "0     8444945      601    498  1120  3109.0   1129     0  151.0  317.0  85.0   \n",
       "1129  8445000      698    640  1121  4556.0   1639   259  274.0  567.0  77.0   \n",
       "2768  8445240      727    500   343  3087.0   1299     0  154.0  422.0  78.0   \n",
       "4067  8445408      484    299   543  2627.0    748     0  105.0  278.0  50.0   \n",
       "4815  8445417      537    485   718  3587.0   1188    38  198.0  415.0  58.0   \n",
       "\n",
       "      otg   shg   shp     bs     pm     pts  \n",
       "0     5.0  13.0  20.0    0.0  201.0  1099.0  \n",
       "1129  7.0  10.0  13.0  320.0   32.0  1338.0  \n",
       "2768  0.0   4.0   4.0    0.0   -7.0  1227.0  \n",
       "4067  0.0   0.0   0.0    0.0  117.0   783.0  \n",
       "4815  7.0  13.0  22.0   14.0 -120.0  1022.0  "
      ]
     },
     "execution_count": 130,
     "metadata": {},
     "output_type": "execute_result"
    }
   ],
   "source": [
    "X = df_merge.drop(\"pos\", axis=1)\n",
    "\n",
    "X.head()"
   ]
  },
  {
   "cell_type": "code",
   "execution_count": 131,
   "metadata": {},
   "outputs": [],
   "source": [
    "from sklearn.model_selection import train_test_split\n",
    "X_train, X_test, y_train, y_test = train_test_split(X, y, random_state=42)"
   ]
  },
  {
   "cell_type": "code",
   "execution_count": 132,
   "metadata": {},
   "outputs": [
    {
     "name": "stdout",
     "output_type": "stream",
     "text": [
      "k: 1, Train/Test Score: 1.000/0.429\n",
      "k: 3, Train/Test Score: 0.833/0.357\n",
      "k: 5, Train/Test Score: 0.762/0.500\n",
      "k: 7, Train/Test Score: 0.714/0.357\n",
      "k: 9, Train/Test Score: 0.690/0.357\n",
      "k: 11, Train/Test Score: 0.667/0.357\n",
      "k: 13, Train/Test Score: 0.619/0.429\n",
      "k: 15, Train/Test Score: 0.548/0.357\n",
      "k: 17, Train/Test Score: 0.571/0.500\n",
      "k: 19, Train/Test Score: 0.524/0.571\n"
     ]
    },
    {
     "data": {
      "image/png": "[encoded data removed]",
      "text/plain": [
       "<Figure size 432x288 with 1 Axes>"
      ]
     },
     "metadata": {
      "needs_background": "light"
     },
     "output_type": "display_data"
    }
   ],
   "source": [
    "# Loop through different k values to see which has the highest accuracy\n",
    "# Note: We only use odd numbers because we don't want any ties\n",
    "# YOUR CODE HERE\n",
    "train_scores = []\n",
    "test_scores = []\n",
    "for k in range(1, 20, 2):\n",
    "    knn = KNeighborsClassifier(n_neighbors=k)\n",
    "    knn.fit(X_train, y_train)\n",
    "    train_score = knn.score(X_train, y_train)\n",
    "    test_score = knn.score(X_test, y_test)\n",
    "    train_scores.append(train_score)\n",
    "    test_scores.append(test_score)\n",
    "    print(f\"k: {k}, Train/Test Score: {train_score:.3f}/{test_score:.3f}\")    \n",
    "    \n",
    "plt.plot(range(1, 20, 2), train_scores, marker='o')\n",
    "plt.plot(range(1, 20, 2), test_scores, marker=\"x\")\n",
    "plt.xlabel(\"k neighbors\")\n",
    "plt.ylabel(\"Testing accuracy Score\")\n",
    "plt.show()"
   ]
  },
  {
   "cell_type": "code",
   "execution_count": 133,
   "metadata": {},
   "outputs": [
    {
     "name": "stdout",
     "output_type": "stream",
     "text": [
      "k=20 Test Acc: 0.571\n"
     ]
    }
   ],
   "source": [
    "# Choose the best k from above and re-fit the KNN Classifier using that k value.\n",
    "# print the score for the test data\n",
    "# YOUR CODE HERE\n",
    "knn = KNeighborsClassifier(n_neighbors=20)\n",
    "knn.fit(X_train, y_train)\n",
    "print('k=20 Test Acc: %.3f' % knn.score(X_test, y_test))"
   ]
  },
  {
   "cell_type": "code",
   "execution_count": 134,
   "metadata": {},
   "outputs": [],
   "source": [
    "#support vector Machine (SVM)\n",
    "from sklearn.preprocessing import MinMaxScaler\n",
    "scaling = MinMaxScaler(feature_range=(-1,1)).fit(X_train)\n",
    "X_train = scaling.transform(X_train)\n",
    "X_test = scaling.transform(X_test)\n",
    "from sklearn.svm import SVC \n",
    "model = SVC(kernel='linear')\n",
    "model.fit(X_train, y_train)\n",
    "predictions = model.predict(X_test)\n"
   ]
  },
  {
   "cell_type": "code",
   "execution_count": 135,
   "metadata": {},
   "outputs": [
    {
     "name": "stdout",
     "output_type": "stream",
     "text": [
      "              precision    recall  f1-score   support\n",
      "\n",
      "           C       1.00      0.29      0.44         7\n",
      "           W       0.58      1.00      0.74         7\n",
      "\n",
      "    accuracy                           0.64        14\n",
      "   macro avg       0.79      0.64      0.59        14\n",
      "weighted avg       0.79      0.64      0.59        14\n",
      "\n"
     ]
    }
   ],
   "source": [
    "from sklearn.metrics import classification_report\n",
    "print(classification_report(y_test, predictions,\n",
    "                            target_names=target_names))"
   ]
  },
  {
   "cell_type": "code",
   "execution_count": 138,
   "metadata": {},
   "outputs": [],
   "source": [
    "#logistic regression\n",
    "from sklearn.model_selection import train_test_split\n",
    "\n",
    "X_train, X_test, y_train, y_test = train_test_split(X, y, random_state=1, stratify=y)"
   ]
  },
  {
   "cell_type": "code",
   "execution_count": 139,
   "metadata": {},
   "outputs": [
    {
     "data": {
      "text/plain": [
       "LogisticRegression(C=1.0, class_weight=None, dual=False, fit_intercept=True,\n",
       "                   intercept_scaling=1, l1_ratio=None, max_iter=100,\n",
       "                   multi_class='warn', n_jobs=None, penalty='l2',\n",
       "                   random_state=None, solver='warn', tol=0.0001, verbose=0,\n",
       "                   warm_start=False)"
      ]
     },
     "execution_count": 139,
     "metadata": {},
     "output_type": "execute_result"
    }
   ],
   "source": [
    "from sklearn.linear_model import LogisticRegression\n",
    "classifier = LogisticRegression()\n",
    "classifier"
   ]
  },
  {
   "cell_type": "code",
   "execution_count": 140,
   "metadata": {},
   "outputs": [
    {
     "name": "stderr",
     "output_type": "stream",
     "text": [
      "C:\\Anaconda3\\lib\\site-packages\\sklearn\\linear_model\\logistic.py:432: FutureWarning: Default solver will be changed to 'lbfgs' in 0.22. Specify a solver to silence this warning.\n",
      "  FutureWarning)\n"
     ]
    },
    {
     "data": {
      "text/plain": [
       "LogisticRegression(C=1.0, class_weight=None, dual=False, fit_intercept=True,\n",
       "                   intercept_scaling=1, l1_ratio=None, max_iter=100,\n",
       "                   multi_class='warn', n_jobs=None, penalty='l2',\n",
       "                   random_state=None, solver='warn', tol=0.0001, verbose=0,\n",
       "                   warm_start=False)"
      ]
     },
     "execution_count": 140,
     "metadata": {},
     "output_type": "execute_result"
    }
   ],
   "source": [
    "classifier.fit(X_train, y_train)"
   ]
  },
  {
   "cell_type": "code",
   "execution_count": 141,
   "metadata": {},
   "outputs": [
    {
     "name": "stdout",
     "output_type": "stream",
     "text": [
      "Training Data Score: 0.8571428571428571\n",
      "Testing Data Score: 0.8571428571428571\n"
     ]
    }
   ],
   "source": [
    "print(f\"Training Data Score: {classifier.score(X_train, y_train)}\")\n",
    "print(f\"Testing Data Score: {classifier.score(X_test, y_test)}\")"
   ]
  },
  {
   "cell_type": "code",
   "execution_count": 142,
   "metadata": {},
   "outputs": [
    {
     "data": {
      "text/html": [
       "<div>\n",
       "<style scoped>\n",
       "    .dataframe tbody tr th:only-of-type {\n",
       "        vertical-align: middle;\n",
       "    }\n",
       "\n",
       "    .dataframe tbody tr th {\n",
       "        vertical-align: top;\n",
       "    }\n",
       "\n",
       "    .dataframe thead th {\n",
       "        text-align: right;\n",
       "    }\n",
       "</style>\n",
       "<table border=\"1\" class=\"dataframe\">\n",
       "  <thead>\n",
       "    <tr style=\"text-align: right;\">\n",
       "      <th></th>\n",
       "      <th>Prediction</th>\n",
       "      <th>Actual</th>\n",
       "    </tr>\n",
       "  </thead>\n",
       "  <tbody>\n",
       "    <tr>\n",
       "      <td>66957</td>\n",
       "      <td>W</td>\n",
       "      <td>W</td>\n",
       "    </tr>\n",
       "    <tr>\n",
       "      <td>17198</td>\n",
       "      <td>C</td>\n",
       "      <td>C</td>\n",
       "    </tr>\n",
       "    <tr>\n",
       "      <td>29975</td>\n",
       "      <td>C</td>\n",
       "      <td>C</td>\n",
       "    </tr>\n",
       "    <tr>\n",
       "      <td>56786</td>\n",
       "      <td>W</td>\n",
       "      <td>W</td>\n",
       "    </tr>\n",
       "    <tr>\n",
       "      <td>35377</td>\n",
       "      <td>C</td>\n",
       "      <td>C</td>\n",
       "    </tr>\n",
       "    <tr>\n",
       "      <td>33984</td>\n",
       "      <td>C</td>\n",
       "      <td>C</td>\n",
       "    </tr>\n",
       "    <tr>\n",
       "      <td>36876</td>\n",
       "      <td>W</td>\n",
       "      <td>W</td>\n",
       "    </tr>\n",
       "    <tr>\n",
       "      <td>68105</td>\n",
       "      <td>C</td>\n",
       "      <td>C</td>\n",
       "    </tr>\n",
       "    <tr>\n",
       "      <td>28012</td>\n",
       "      <td>C</td>\n",
       "      <td>C</td>\n",
       "    </tr>\n",
       "    <tr>\n",
       "      <td>6003</td>\n",
       "      <td>W</td>\n",
       "      <td>W</td>\n",
       "    </tr>\n",
       "    <tr>\n",
       "      <td>63930</td>\n",
       "      <td>W</td>\n",
       "      <td>C</td>\n",
       "    </tr>\n",
       "    <tr>\n",
       "      <td>24770</td>\n",
       "      <td>W</td>\n",
       "      <td>W</td>\n",
       "    </tr>\n",
       "    <tr>\n",
       "      <td>19873</td>\n",
       "      <td>C</td>\n",
       "      <td>W</td>\n",
       "    </tr>\n",
       "    <tr>\n",
       "      <td>59724</td>\n",
       "      <td>W</td>\n",
       "      <td>W</td>\n",
       "    </tr>\n",
       "  </tbody>\n",
       "</table>\n",
       "</div>"
      ],
      "text/plain": [
       "      Prediction Actual\n",
       "66957          W      W\n",
       "17198          C      C\n",
       "29975          C      C\n",
       "56786          W      W\n",
       "35377          C      C\n",
       "33984          C      C\n",
       "36876          W      W\n",
       "68105          C      C\n",
       "28012          C      C\n",
       "6003           W      W\n",
       "63930          W      C\n",
       "24770          W      W\n",
       "19873          C      W\n",
       "59724          W      W"
      ]
     },
     "execution_count": 142,
     "metadata": {},
     "output_type": "execute_result"
    }
   ],
   "source": [
    "predictions = classifier.predict(X_test)\n",
    "pd.DataFrame({\"Prediction\": predictions, \"Actual\": y_test})"
   ]
  },
  {
   "cell_type": "code",
   "execution_count": 291,
   "metadata": {},
   "outputs": [
    {
     "name": "stderr",
     "output_type": "stream",
     "text": [
      "C:\\Anaconda3\\lib\\site-packages\\IPython\\core\\interactiveshell.py:3058: DtypeWarning: Columns (28,29) have mixed types. Specify dtype option on import or set low_memory=False.\n",
      "  interactivity=interactivity, compiler=compiler, result=result)\n"
     ]
    },
    {
     "name": "stdout",
     "output_type": "stream",
     "text": [
      "1767\n",
      "Player last nameLemieux\n",
      "Player first nameMario\n"
     ]
    }
   ],
   "source": [
    "#LINEAR REGRESSION\n",
    "from sklearn.linear_model import LinearRegression\n",
    "model = LinearRegression()\n",
    "df = pd.read_csv(\"top_56_scorers.csv\")\n",
    "#get max number of games for anyone ever\n",
    "maxgame = df['gameid'].max()\n",
    "print(maxgame)\n",
    "playerLastName = input(\"Player last name\")\n",
    "playerFirstName = input(\"Player first name\")"
   ]
  },
  {
   "cell_type": "code",
   "execution_count": 292,
   "metadata": {},
   "outputs": [],
   "source": [
    "#DF of everyone BUT the player of choice\n",
    "df_ALL = df[df['lastname'] != playerLastName]\n",
    "df_ALL = df_ALL.dropna(how = \"any\")\n",
    "\n",
    "\n",
    "#DF of ONLY Player of choice\n",
    "df = df[df['lastname'] == playerLastName]\n",
    "df = df.dropna(how = \"any\")\n",
    "playerLastGame = df['gameid'].max()\n",
    "#remove games before playerLastGame\n",
    "df_ALL = df_ALL[df_ALL['gameid'] > playerLastGame]\n",
    "df_ALL = df_ALL.drop([\"id\", \"season\", \"sumgoals\", \"games\"], axis = 1)\n",
    "#average stats of all players for each game\n",
    "df_ALL = df_ALL.groupby(\"gameid\").mean().reset_index()"
   ]
  },
  {
   "cell_type": "code",
   "execution_count": 293,
   "metadata": {},
   "outputs": [
    {
     "name": "stdout",
     "output_type": "stream",
     "text": [
      "coefficient of determination: 0.15709752999004134\n",
      "intercept: 0.6275001239841995\n",
      "slope: [-0.00024853]\n"
     ]
    }
   ],
   "source": [
    "\n",
    "#calculate line of best fit\n",
    "#X = df_ALL.drop(\"goals\", axis = 1)\n",
    "#idk what's happening here, try using just gameid\n",
    "X = df_ALL[\"gameid\"]\n",
    "Y = df_ALL[\"goals\"]\n",
    "x, y = np.array(X).reshape(-1,1), np.array(Y)\n",
    "# Fitting our model with all of our features in X\n",
    "model = LinearRegression().fit(x, y)\n",
    "r_sq = model.score(x, y)\n",
    "print('coefficient of determination:', r_sq)\n",
    "\n",
    "print('intercept:', model.intercept_)\n",
    "\n",
    "print('slope:', model.coef_)\n",
    "y_pred = model.predict(x)\n",
    "verticalLine = df['gameid'].max()\n",
    "for x in range(len(y_pred)):\n",
    "    new_row = {'gameid':X[x], 'goals': y_pred[x], 'sumgoals': df['sumgoals'].max()+y_pred[x]}\n",
    "    #append row to the dataframe\n",
    "    df = df.append(new_row, ignore_index=True)\n",
    "\n",
    "    \n"
   ]
  },
  {
   "cell_type": "code",
   "execution_count": 296,
   "metadata": {},
   "outputs": [
    {
     "data": {
      "text/plain": [
       "<matplotlib.collections.LineCollection at 0x274b42a7f08>"
      ]
     },
     "execution_count": 296,
     "metadata": {},
     "output_type": "execute_result"
    },
    {
     "data": {
      "image/png": "[encoded data removed]",
      "text/plain": [
       "<Figure size 432x288 with 1 Axes>"
      ]
     },
     "metadata": {
      "needs_background": "light"
     },
     "output_type": "display_data"
    }
   ],
   "source": [
    "plt.plot(df['sumgoals'])\n",
    "plt.hlines(y=894, xmin = 0, xmax = df['gameid'].max())\n",
    "plt.vlines(x = verticalLine, ymin = 0, ymax=894)\n",
    "\n"
   ]
  },
  {
   "cell_type": "code",
   "execution_count": 261,
   "metadata": {},
   "outputs": [
    {
     "ename": "AttributeError",
     "evalue": "module 'matplotlib.pyplot' has no attribute 'pltt'",
     "output_type": "error",
     "traceback": [
      "\u001b[1;31m---------------------------------------------------------------------------\u001b[0m",
      "\u001b[1;31mAttributeError\u001b[0m                            Traceback (most recent call last)",
      "\u001b[1;32m<ipython-input-261-3709a6f471d5>\u001b[0m in \u001b[0;36m<module>\u001b[1;34m\u001b[0m\n\u001b[0;32m      1\u001b[0m \u001b[0mplt\u001b[0m\u001b[1;33m.\u001b[0m\u001b[0mscatter\u001b[0m\u001b[1;33m(\u001b[0m\u001b[0mdf_ALL\u001b[0m\u001b[1;33m[\u001b[0m\u001b[1;34m\"gameid\"\u001b[0m\u001b[1;33m]\u001b[0m\u001b[1;33m,\u001b[0m \u001b[0mdf_ALL\u001b[0m\u001b[1;33m[\u001b[0m\u001b[1;34m\"goals\"\u001b[0m\u001b[1;33m]\u001b[0m\u001b[1;33m,\u001b[0m \u001b[0malpha\u001b[0m\u001b[1;33m=\u001b[0m\u001b[1;36m0.2\u001b[0m\u001b[1;33m)\u001b[0m\u001b[1;33m\u001b[0m\u001b[1;33m\u001b[0m\u001b[0m\n\u001b[1;32m----> 2\u001b[1;33m \u001b[0mplt\u001b[0m\u001b[1;33m.\u001b[0m\u001b[0mpltt\u001b[0m\u001b[1;33m(\u001b[0m\u001b[0mnp\u001b[0m\u001b[1;33m.\u001b[0m\u001b[0munique\u001b[0m\u001b[1;33m(\u001b[0m\u001b[0mdf_ALL\u001b[0m\u001b[1;33m[\u001b[0m\u001b[1;34m\"gameid\"\u001b[0m\u001b[1;33m]\u001b[0m\u001b[1;33m)\u001b[0m\u001b[1;33m,\u001b[0m \u001b[0mnp\u001b[0m\u001b[1;33m.\u001b[0m\u001b[0mpoly1d\u001b[0m\u001b[1;33m(\u001b[0m\u001b[0mnp\u001b[0m\u001b[1;33m.\u001b[0m\u001b[0mpolyfit\u001b[0m\u001b[1;33m(\u001b[0m\u001b[0mdf_ALL\u001b[0m\u001b[1;33m[\u001b[0m\u001b[1;34m\"gameid\"\u001b[0m\u001b[1;33m]\u001b[0m\u001b[1;33m,\u001b[0m \u001b[0mdf_ALL\u001b[0m\u001b[1;33m[\u001b[0m\u001b[1;34m\"goals\"\u001b[0m\u001b[1;33m]\u001b[0m\u001b[1;33m,\u001b[0m \u001b[1;36m1\u001b[0m\u001b[1;33m)\u001b[0m\u001b[1;33m)\u001b[0m\u001b[1;33m(\u001b[0m\u001b[0mnp\u001b[0m\u001b[1;33m.\u001b[0m\u001b[0munique\u001b[0m\u001b[1;33m(\u001b[0m\u001b[0mdf_ALL\u001b[0m\u001b[1;33m[\u001b[0m\u001b[1;34m\"gameid\"\u001b[0m\u001b[1;33m]\u001b[0m\u001b[1;33m)\u001b[0m\u001b[1;33m)\u001b[0m\u001b[1;33m,\u001b[0m \u001b[0mcolor\u001b[0m \u001b[1;33m=\u001b[0m \u001b[1;34m'red'\u001b[0m\u001b[1;33m)\u001b[0m\u001b[1;33m\u001b[0m\u001b[1;33m\u001b[0m\u001b[0m\n\u001b[0m",
      "\u001b[1;31mAttributeError\u001b[0m: module 'matplotlib.pyplot' has no attribute 'pltt'"
     ]
    },
    {
     "data": {
      "image/png": "[encoded data removed]",
      "text/plain": [
       "<Figure size 432x288 with 1 Axes>"
      ]
     },
     "metadata": {
      "needs_background": "light"
     },
     "output_type": "display_data"
    }
   ],
   "source": [
    "plt.scatter(df_ALL[\"gameid\"], df_ALL[\"goals\"], alpha=0.2)\n",
    "plt.plt(np.unique(df_ALL[\"gameid\"]), np.poly1d(np.polyfit(df_ALL[\"gameid\"], df_ALL[\"goals\"], 1))(np.unique(df_ALL[\"gameid\"])), color = 'red')\n"
   ]
  },
  {
   "cell_type": "code",
   "execution_count": 148,
   "metadata": {},
   "outputs": [
    {
     "name": "stdout",
     "output_type": "stream",
     "text": [
      "R2 Score: 0.9970430505116833\n",
      "Training Data Score: 0.9972626941450587\n",
      "Testing Data Score: 0.9964166483497329\n"
     ]
    }
   ],
   "source": [
    "# df_pos  = pd.get_dummies(df['pos'])\n",
    "# df_opp  = pd.get_dummies(df['opp'])\n",
    "# df_home = pd.get_dummies(df['home'])\n",
    "# df_win  = pd.get_dummies(df['win'])\n",
    "# df_merge = df.merge(df_pos, left_index = True, right_index = True)\n",
    "# df_merge = df_merge.merge(df_opp, left_index = True, right_index = True)\n",
    "# df_merge = df_merge.merge(df_home, left_index = True, right_index = True)\n",
    "# df_merge = df_merge.merge(df_win, left_index = True, right_index = True)\n",
    "# X = df_merge.drop([\"firstname\", \"lastname\", \"sumgoals\", \"season\", 'date', 'team', 'birthdate', 'pos', 'opp', 'home', 'win'], axis=1)\n",
    "# y = df_merge['sumgoals']\n",
    "\n",
    "# #train test split\n",
    "# X_train, X_test, y_train, y_test = train_test_split(X, y, random_state=1)\n",
    "# # Fitting our model with all of our features in X\n",
    "# model.fit(X_train, y_train)\n",
    "\n",
    "# score = model.score(X, y)\n",
    "# print(f\"R2 Score: {score}\")\n",
    "# print(f\"Training Data Score: {model.score(X_train, y_train)}\")\n",
    "# print(f\"Testing Data Score: {model.score(X_test, y_test)}\")"
   ]
  },
  {
   "cell_type": "code",
   "execution_count": 144,
   "metadata": {},
   "outputs": [
    {
     "data": {
      "image/png": "[encoded data removed]",
      "text/plain": [
       "<Figure size 432x288 with 1 Axes>"
      ]
     },
     "metadata": {
      "needs_background": "light"
     },
     "output_type": "display_data"
    }
   ],
   "source": [
    "# predictions = model.predict(X)\n",
    "# # Plot Residuals\n",
    "# plt.scatter(predictions, predictions - y)\n",
    "# plt.hlines(y=0, xmin=predictions.min(), xmax=predictions.max())\n",
    "# plt.show()"
   ]
  },
  {
   "cell_type": "code",
   "execution_count": null,
   "metadata": {},
   "outputs": [],
   "source": []
  }
 ],
 "metadata": {
  "kernelspec": {
   "display_name": "Python 3",
   "language": "python",
   "name": "python3"
  },
  "language_info": {
   "codemirror_mode": {
    "name": "ipython",
    "version": 3
   },
   "file_extension": ".py",
   "mimetype": "text/x-python",
   "name": "python",
   "nbconvert_exporter": "python",
   "pygments_lexer": "ipython3",
   "version": "3.7.4"
  },
  "varInspector": {
   "cols": {
    "lenName": 16,
    "lenType": 16,
    "lenVar": 40
   },
   "kernels_config": {
    "python": {
     "delete_cmd_postfix": "",
     "delete_cmd_prefix": "del ",
     "library": "var_list.py",
     "varRefreshCmd": "print(var_dic_list())"
    },
    "r": {
     "delete_cmd_postfix": ") ",
     "delete_cmd_prefix": "rm(",
     "library": "var_list.r",
     "varRefreshCmd": "cat(var_dic_list()) "
    }
   },
   "types_to_exclude": [
    "module",
    "function",
    "builtin_function_or_method",
    "instance",
    "_Feature"
   ],
   "window_display": false
  }
 },
 "nbformat": 4,
 "nbformat_minor": 2
}
