{
 "cells": [
  {
   "cell_type": "code",
   "execution_count": 1,
   "metadata": {},
   "outputs": [],
   "source": [
    "# SQL ALchemy \n",
    "from sqlalchemy import create_engine\n",
    "\n",
    "# Import PyMySQL\n",
    "import pymysql\n",
    "pymysql.install_as_MySQLdb()\n",
    "\n",
    "# Config Variables \n",
    "from config import remote_db_endpoint, remote_db_port\n",
    "from config import remote_gwsis_dbname, remote_gwsis_dbuser, remote_gwsis_dbpwd\n",
    "from config import local_db_user, local_db_pwd, local_db_endpoint, local_db_port, local_db_name\n",
    "\n",
    "# Import Pandas \n",
    "import pandas as pd"
   ]
  },
  {
   "cell_type": "code",
   "execution_count": 2,
   "metadata": {},
   "outputs": [],
   "source": [
    "# Create engine and pass mySQL connnection \n",
    "\n",
    "# CSV Files\n",
    "# NHL1_csv = \"Resources/Annual_Avg_Pay.csv\"\n",
    "# NHL1_df = pd.read_csv(NHL1_csv)\n",
    "\n",
    "# NHL2_csv = \"Resources/unemployment_rate.csv\"\n",
    "# NHL2_df = pd.read_csv(NHL2_csv)\n",
    "\n",
    "# Cloud MySQl database connection on AWS\n",
    "engine = create_engine(f\"mysql://{remote_gwsis_dbuser}:{remote_gwsis_dbpwd}@{remote_db_endpoint}:{remote_db_port}/{remote_gwsis_dbname}\")"
   ]
  },
  {
   "cell_type": "code",
   "execution_count": 4,
   "metadata": {},
   "outputs": [],
   "source": [
    "# Create remote database engine connection \n",
    "conn = engine.connect()"
   ]
  },
  {
   "cell_type": "code",
   "execution_count": 5,
   "metadata": {},
   "outputs": [],
   "source": [
    "# Dataframe to SQL\n",
    "# NHL1_df.to_sql(name='NHL1_data', if_exists='append', con=conn, chunksize=500, index=False)\n",
    "\n",
    "# NHL2_df.to_sql(name='NHL2_data', if_exists='append', con=conn, chunksize=500, index=False)\n"
   ]
  },
  {
   "cell_type": "code",
   "execution_count": null,
   "metadata": {},
   "outputs": [],
   "source": [
    "remote_NHL1_data = pd.read_sql(\"SELECT * FROM NHL1_data\", conn)\n",
    "print(len(remote_NHL1_data))\n",
    "remote_NHL1_data.head()"
   ]
  },
  {
   "cell_type": "code",
   "execution_count": null,
   "metadata": {},
   "outputs": [],
   "source": [
    "remote_NHL2_data = pd.read_sql(\"SELECT * FROM NHL2_data\", conn)\n",
    "print(len(remote_NHL2_data))\n",
    "remote_NHL2_data.head()"
   ]
  },
  {
   "cell_type": "code",
   "execution_count": null,
   "metadata": {},
   "outputs": [],
   "source": []
  }
 ],
 "metadata": {
  "kernelspec": {
   "display_name": "Python 3",
   "language": "python",
   "name": "python3"
  },
  "language_info": {
   "codemirror_mode": {
    "name": "ipython",
    "version": 3
   },
   "file_extension": ".py",
   "mimetype": "text/x-python",
   "name": "python",
   "nbconvert_exporter": "python",
   "pygments_lexer": "ipython3",
   "version": "3.7.3"
  }
 },
 "nbformat": 4,
 "nbformat_minor": 2
}
